{
 "cells": [
  {
   "cell_type": "code",
   "execution_count": 50,
   "id": "2c36c5a2-f48e-495e-9aa0-fd05166229e6",
   "metadata": {},
   "outputs": [],
   "source": [
    "record= {19311 : {\"name\":'dairy milk'       ,\"price\":50   ,\"qn\":100  ,\"category\":'chocolate'},\n",
    "         19322 : {\"name\":'kit kat'          ,\"price\":50   ,\"qn\":100  ,\"category\":'chocolate'},\n",
    "         19333 : {\"name\":'thumbs up'        ,\"price\":50   ,\"qn\":100  ,\"category\":'drinks'},\n",
    "         19344 : {\"name\":'cup cake'         ,\"price\":50   ,\"qn\":100  ,\"category\":'cake'}}"
   ]
  },
  {
   "cell_type": "code",
   "execution_count": 51,
   "id": "c03b1553-d869-429d-9b3a-b331c7479149",
   "metadata": {},
   "outputs": [
    {
     "data": {
      "text/plain": [
       "{19311: {'name': 'dairy milk',\n",
       "  'price': 50,\n",
       "  'qn': 100,\n",
       "  'category': 'chocolate'},\n",
       " 19322: {'name': 'kit kat', 'price': 50, 'qn': 100, 'category': 'chocolate'},\n",
       " 19333: {'name': 'thumbs up', 'price': 50, 'qn': 100, 'category': 'drinks'},\n",
       " 19344: {'name': 'cup cake', 'price': 50, 'qn': 100, 'category': 'cake'}}"
      ]
     },
     "execution_count": 51,
     "metadata": {},
     "output_type": "execute_result"
    }
   ],
   "source": [
    "record\n"
   ]
  },
  {
   "cell_type": "code",
   "execution_count": 23,
   "id": "8d51d999-2d2d-45c9-b237-c83043cad3ab",
   "metadata": {},
   "outputs": [
    {
     "name": "stdout",
     "output_type": "stream",
     "text": [
      "--------------------MENU--------------------\n",
      "19311 : dairy milk \t| 50 \t| 33 \t| chocolate\n",
      "19322 : kit kat \t| 50 \t| 98 \t| chocolate\n",
      "19333 : thumbs up \t| 50 \t| 95 \t| drinks\n",
      "19344 : cup cake \t| 50 \t| -2 \t| cake\n",
      "---------------------------------------------\n"
     ]
    },
    {
     "name": "stdin",
     "output_type": "stream",
     "text": [
      "Enter your name:  pramodh\n",
      "Enter your phone number:  9052806217\n",
      "Enter your Email:  pramodhguduri01@gmail.com\n",
      "Enter your address:  chinnaranagni palem\n",
      "Enter product ID:  19322\n",
      "Enter product quantity:  2\n"
     ]
    },
    {
     "name": "stdout",
     "output_type": "stream",
     "text": [
      "--------------------BILL--------------------\n",
      "TRANSACTION TIME: Wed Feb 28 20:16:02 2024\n",
      "Name    : kit kat\n",
      "Price   : 50\n",
      "Category: chocolate\n",
      "Quantity: 2\n",
      "---------------------------------------------\n",
      "Billing amount: 100\n"
     ]
    }
   ],
   "source": [
    "import json\n",
    "import time\n",
    "\n",
    "# Load inventory data from JSON file\n",
    "with open(\"record.json\", \"r\") as fd:\n",
    "    record = json.load(fd)\n",
    "\n",
    "print(\"-\"*20 + \"MENU\" + \"-\"*20)\n",
    "\n",
    "# Display menu\n",
    "for key in record.keys():\n",
    "    print(key, \":\", record[key]['name'], '\\t|', record[key]['price'], '\\t|', record[key]['qn'], '\\t|', record[key]['category'])\n",
    "print(\"-\"*45)\n",
    "\n",
    "# Get customer information\n",
    "user_name = str(input(\"Enter your name: \"))\n",
    "user_number = str(input(\"Enter your phone number: \"))\n",
    "user_mail = str(input(\"Enter your Email: \"))\n",
    "user_address = str(input(\"Enter your address: \"))\n",
    "\n",
    "# Get product ID and quantity\n",
    "user_pid = str(input(\"Enter product ID: \"))\n",
    "user_pqn = int(input(\"Enter product quantity: \"))\n",
    "\n",
    "# Process transaction\n",
    "if record[user_pid]['qn'] >= user_pqn:\n",
    "    record[user_pid]['qn'] -= user_pqn\n",
    "    print(\"-\"*20 + \"BILL\" + \"-\"*20)\n",
    "    print(\"TRANSACTION TIME:\", time.ctime())\n",
    "    print(\"Name    :\", record[user_pid]['name'])\n",
    "    print(\"Price   :\", record[user_pid]['price'])\n",
    "    print(\"Category:\", record[user_pid]['category'])\n",
    "    print(\"Quantity:\", user_pqn)\n",
    "    print(\"-\"*45)\n",
    "    print(\"Billing amount:\", record[user_pid]['price'] * user_pqn)\n",
    "    \n",
    "    # Store sales data\n",
    "    sales_data = {\n",
    "        \"user_name\": user_name,\n",
    "        \"user_number\": user_number,\n",
    "        \"user_mail\": user_mail,\n",
    "        \"user_address\": user_address,\n",
    "        \"product_name\": record[user_pid]['name'],\n",
    "        \"product_quantity\": user_pqn,\n",
    "        \"total_amount\": record[user_pid]['price'] * user_pqn\n",
    "    }\n",
    "    # Convert sales data to JSON format and append to a sales file\n",
    "    with open(\"sales.json\", \"a\") as sales_file:\n",
    "        json.dump(sales_data, sales_file)\n",
    "        sales_file.write(\"\\n\")\n",
    "\n",
    "else:\n",
    "    print(\"We do not have enough quantity in our inventory.\")\n",
    "    print(\"We only have\", record[user_pid]['qn'], \"quantity.\")\n",
    "    if record[user_pid]['qn'] <= 0:\n",
    "        print('Out of stock')\n",
    "        record[user_pid]['qn'] = 0  # Set quantity to zero\n",
    "    else:\n",
    "        print(\"-----------------------------------\")\n",
    "        ch = str(input(\"Enter Y/y to continue: \"))\n",
    "        if ch.lower() == \"y\":\n",
    "            print(\"-\"*20 + \"BILL\" + \"-\"*20)\n",
    "            print(\"TRANSACTION TIME:\", time.ctime())\n",
    "            print(\"Name    :\", record[user_pid]['name'])\n",
    "            print(\"Price   :\", record[user_pid]['price'])\n",
    "            print(\"Category:\", record[user_pid]['category'])\n",
    "            print(\"Quantity:\", user_pqn)\n",
    "            print(\"-\"*45)\n",
    "            record[user_pid]['qn'] = 0  # Set quantity to zero\n",
    "        else:\n",
    "            print(\"Thank you\")\n",
    "\n",
    "# Save updated inventory data to JSON file\n",
    "with open(\"record.json\", \"w\") as fd:\n",
    "    json.dump(record, fd)\n"
   ]
  },
  {
   "cell_type": "code",
   "execution_count": 16,
   "id": "2fb833f2-cf49-4065-9272-42bc422e6eeb",
   "metadata": {},
   "outputs": [
    {
     "data": {
      "text/plain": [
       "{'19311': {'name': 'dairy milk',\n",
       "  'price': 50,\n",
       "  'qn': 33,\n",
       "  'category': 'chocolate'},\n",
       " '19322': {'name': 'kit kat', 'price': 50, 'qn': 98, 'category': 'chocolate'},\n",
       " '19333': {'name': 'thumbs up', 'price': 50, 'qn': 100, 'category': 'drinks'},\n",
       " '19344': {'name': 'cup cake', 'price': 50, 'qn': -2, 'category': 'cake'}}"
      ]
     },
     "execution_count": 16,
     "metadata": {},
     "output_type": "execute_result"
    }
   ],
   "source": [
    "sal"
   ]
  },
  {
   "cell_type": "code",
   "execution_count": null,
   "id": "90b2f43a-bae3-4a97-952b-6408638825f1",
   "metadata": {},
   "outputs": [],
   "source": []
  }
 ],
 "metadata": {
  "kernelspec": {
   "display_name": "Python 3 (ipykernel)",
   "language": "python",
   "name": "python3"
  },
  "language_info": {
   "codemirror_mode": {
    "name": "ipython",
    "version": 3
   },
   "file_extension": ".py",
   "mimetype": "text/x-python",
   "name": "python",
   "nbconvert_exporter": "python",
   "pygments_lexer": "ipython3",
   "version": "3.12.2"
  }
 },
 "nbformat": 4,
 "nbformat_minor": 5
}
